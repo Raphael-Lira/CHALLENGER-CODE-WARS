{
 "cells": [
  {
   "cell_type": "code",
   "execution_count": null,
   "id": "fb32bdcc",
   "metadata": {},
   "outputs": [],
   "source": [
    "# Solução para desafio no CodeWars\n",
    "def to_camel_case(text):\n",
    "    text_split = text.split('-')\n",
    "    l_3 = [palavra.split('_') for palavra in text_split]\n",
    "    l_final = []\n",
    "    for lista in l_3:\n",
    "        for valor in lista:\n",
    "            l_final.append(valor)\n",
    "    text_primeira_frase = l_final[0]\n",
    "    l_final.pop(0)\n",
    "    text_restante = ''.join([str_v.title() for str_v in l_final])\n",
    "    text_f = text_primeira_frase + text_restante\n",
    "    return text_f"
   ]
  }
 ],
 "metadata": {
  "kernelspec": {
   "display_name": "Python 3 (ipykernel)",
   "language": "python",
   "name": "python3"
  },
  "language_info": {
   "codemirror_mode": {
    "name": "ipython",
    "version": 3
   },
   "file_extension": ".py",
   "mimetype": "text/x-python",
   "name": "python",
   "nbconvert_exporter": "python",
   "pygments_lexer": "ipython3",
   "version": "3.9.13"
  }
 },
 "nbformat": 4,
 "nbformat_minor": 5
}
